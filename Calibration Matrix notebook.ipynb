{
 "cells": [
  {
   "cell_type": "code",
   "execution_count": 1,
   "id": "fcb0d320",
   "metadata": {},
   "outputs": [
    {
     "name": "stderr",
     "output_type": "stream",
     "text": [
      "configrc.store_credentials:WARNING:2021-11-30 12:02:20,691: Credentials already present. Set overwrite=True to overwrite.\n"
     ]
    },
    {
     "data": {
      "text/plain": [
       "<AccountProvider for IBMQ(hub='ibm-q', group='open', project='main')>"
      ]
     },
     "execution_count": 1,
     "metadata": {},
     "output_type": "execute_result"
    }
   ],
   "source": [
    "import numpy as np\n",
    "from numpy import linalg as LA\n",
    "import matplotlib.pyplot as plt\n",
    "import qiskit\n",
    "from qiskit.quantum_info import Statevector, DensityMatrix, entropy\n",
    "from qiskit.visualization import plot_circuit_layout, circuit_drawer\n",
    "import pandas as pd\n",
    "from matplotlib.pyplot import figure\n",
    "from qiskit import QuantumRegister, QuantumCircuit, ClassicalRegister, Aer, assemble\n",
    "from qiskit.providers.aer import noise\n",
    "from qiskit.providers.aer.noise import NoiseModel\n",
    "import os\n",
    "from qiskit import IBMQ\n",
    "from qiskit.compiler import transpile\n",
    "pi = np.pi\n",
    "%matplotlib inline\n",
    "IBMQ.save_account('47dfeff248e56fb0797c702b437981f906cc2eeac6ddd486fd0175142d5b37a7df5cd659692f49f41aa98b3503d96d62b0cb372c6bb65e95f53b132283931f1b')\n",
    "IBMQ.load_account()"
   ]
  },
  {
   "cell_type": "code",
   "execution_count": 4,
   "id": "4af2dcee",
   "metadata": {},
   "outputs": [],
   "source": [
    "#Callsical u3 calc\n",
    "def U3(theta,phi):\n",
    "  return np.array([[np.cos(theta/2),-np.sin(theta/2)],[np.exp(1j*phi)*np.sin(theta/2), np.exp(1j*phi)*np.cos(theta/2)]])\n",
    "\n",
    "#numerical calculation of <Z>\n",
    "def num_z(theta,phi):\n",
    "  up = np.array([[1],[0]])\n",
    "  IS = U3(theta,phi)\n",
    "  PSI = np.matmul(IS,up)\n",
    "  pauli_z = np.array([[1,0],[0,-1]])\n",
    "  PSI_comp =np.matrix.getH(PSI)\n",
    "  z_exp = np.matmul(PSI_comp,np.matmul(pauli_z,PSI))\n",
    "  z = np.real(z_exp[0][0])\n",
    "  return z\n",
    "\n",
    "def CalM_sim(nqbit,ncbit,shots):\n",
    "  Q0 = QuantumCircuit(nqbit,nqbit)\n",
    "  Q1 = QuantumCircuit(nqbit,nqbit)\n",
    "  Q1.x(nqbit-1)\n",
    "\n",
    "  QC = [Q0,Q1]\n",
    "  cm = []\n",
    "  for qc in QC:\n",
    "    qc.measure(0,0)\n",
    "    provider = IBMQ.get_provider()\n",
    "    backend = provider.get_backend('ibmq_bogota') #change based on QC one wants to use\n",
    "    noise_model = NoiseModel.from_backend(backend)\n",
    "    simulator = Aer.get_backend('qasm_simulator')\n",
    "    counts = qiskit.execute(qc, backend=simulator, shots=shots, noise_model=noise_model).result().get_counts()\n",
    "    cm.append(counts)\n",
    "  return np.array([[cm[0]['0'],cm[1]['0']],[cm[0]['1'],cm[1]['1']]])/shots\n",
    "\n",
    "def CalM_ibm(nqbit,ncbit,shots):\n",
    "  Q0 = QuantumCircuit(nqbit,nqbit)\n",
    "  Q1 = QuantumCircuit(nqbit,nqbit)\n",
    "  Q1.x(0)\n",
    "\n",
    "  QC = [Q0,Q1]\n",
    "\n",
    "  cm = []\n",
    "  for qc in QC:\n",
    "    qc.measure(0,0)\n",
    "    provider = IBMQ.get_provider().get_backend('ibmq_bogota') #change based on QC one wants to use\n",
    "    new_QX = transpile(qc, backend=backend, optimization_level=0,initial_layout=[1]) #allocate physical qubit\n",
    "    counts = qiskit.execute(new_QX, backend=provider, shots=shots).result().get_counts()\n",
    "    cm.append(counts)\n",
    "  return np.array([[cm[0]['0'],cm[1]['0']],[cm[0]['1'],cm[1]['1']]])/shots"
   ]
  },
  {
   "cell_type": "code",
   "execution_count": 5,
   "id": "ac771938",
   "metadata": {},
   "outputs": [
    {
     "name": "stderr",
     "output_type": "stream",
     "text": [
      "<ipython-input-5-61bc6cefd437>:15: DeprecationWarning: The QuantumCircuit.u3 method is deprecated as of 0.16.0. It will be removed no earlier than 3 months after the release date. You should use QuantumCircuit.u instead, which acts identically. Alternatively, you can decompose u3 in terms of QuantumCircuit.p and QuantumCircuit.sx: u3(ϴ,φ,λ) = p(φ+π) sx p(ϴ+π) sx p(λ) (2 pulses on hardware).\n",
      "  qc.u3(Theta[i],Phi[j],0,0)\n"
     ]
    }
   ],
   "source": [
    "shots = 8192\n",
    "trails= 20\n",
    "Theta = np.array([0,pi/6,pi/4,pi/3,pi/2,2*pi/3,3*pi/4,5*pi/6,pi])\n",
    "Phi = np.array([pi/4,pi/2,3*pi/4,pi,5*pi/4,3*pi/2,7*pi/4,2*pi])\n",
    "\n",
    "z_trues =[]\n",
    "thetas = []\n",
    "phis = []\n",
    "\n",
    "#list of our QC given theta and phi\n",
    "QC_list= []\n",
    "for i in range(len(Theta)): \n",
    "  for j in range(len(Phi)):\n",
    "    z_trues.append(num_z(Theta[i],Phi[j]))\n",
    "    qc=QuantumCircuit(1,1)\n",
    "    qc.u3(Theta[i],Phi[j],0,0)\n",
    "    qc.measure(0,0)\n",
    "    QC_list.append(qc)\n",
    "    thetas.append(Theta[i])\n",
    "    phis.append(Phi[j])"
   ]
  },
  {
   "cell_type": "code",
   "execution_count": 6,
   "id": "9a7037e6",
   "metadata": {},
   "outputs": [
    {
     "name": "stderr",
     "output_type": "stream",
     "text": [
      "ibmqfactory.load_account:WARNING:2021-11-30 12:02:33,094: Credentials are already in use. The existing account in the session will be replaced.\n"
     ]
    },
    {
     "data": {
      "image/png": "[encoded data removed]",
      "text/plain": [
       "<Figure size 360x360 with 1 Axes>"
      ]
     },
     "execution_count": 6,
     "metadata": {},
     "output_type": "execute_result"
    }
   ],
   "source": [
    "#using transpiler to allocate physical qubit\n",
    "IBMQ.load_account()\n",
    "backend = IBMQ.get_provider().get_backend('ibmq_bogota')\n",
    "new_QC_list = []\n",
    "for QC in QC_list:\n",
    "    new_QC_list.append(transpile(QC, backend=backend, optimization_level=0,initial_layout=[1]))\n",
    "plot_circuit_layout(new_QC_list[0], backend)"
   ]
  },
  {
   "cell_type": "code",
   "execution_count": 7,
   "id": "66885d70",
   "metadata": {},
   "outputs": [],
   "source": [
    "#saving images of circuits\n",
    "for i,img in enumerate(new_QC_list):\n",
    "  k = circuit_drawer(img,output='mpl')\n",
    "  k.savefig(f'image_QC1_{i}.png')"
   ]
  },
  {
   "cell_type": "code",
   "execution_count": 8,
   "id": "43fc837a",
   "metadata": {},
   "outputs": [
    {
     "name": "stderr",
     "output_type": "stream",
     "text": [
      "<ipython-input-4-c6fff829b261>:78: DeprecationWarning: The QuantumCircuit.__add__() method is being deprecated.Use the compose() method which is more flexible w.r.t circuit register compatibility.\n",
      "  QX = qc + Measure(qx,'Z',0,0)\n",
      "C:\\Users\\danny\\anaconda3\\lib\\site-packages\\qiskit\\circuit\\quantumcircuit.py:933: DeprecationWarning: The QuantumCircuit.combine() method is being deprecated. Use the compose() method which is more flexible w.r.t circuit register compatibility.\n",
      "  return self.combine(rhs)\n"
     ]
    }
   ],
   "source": [
    "#creating CM\n",
    "CM = []\n",
    "for i in range(trails):\n",
    "   CM.append(CalM_ibm_5q(1,1,shots))\n",
    "CM_ibm_5q =sum(CM)/trails\n",
    "\n",
    "cc = pd.DataFrame()\n",
    "for i in CM:\n",
    "  df = pd.DataFrame(i)\n",
    "  cc = cc.append(df)\n",
    "\n",
    "#saving CM data\n",
    "cc.to_csv('q1_CM_raw.csv',index=False)\n",
    "CM_mean = pd.DataFrame(CM_ibm_5q)\n",
    "CM_mean.to_csv('q1_CM_mean.csv',index=False)"
   ]
  },
  {
   "cell_type": "code",
   "execution_count": 9,
   "id": "49134040",
   "metadata": {},
   "outputs": [],
   "source": [
    "#running QC given CM \n",
    "ZM = []\n",
    "Z_exp = []\n",
    "for i in range(trails):\n",
    "  zm = []\n",
    "  z_exp = []\n",
    "  provider = IBMQ.get_provider()\n",
    "  backend = provider.get_backend('ibmq_bogota') #Change based on what QC one wants to use\n",
    "  results = qiskit.execute(new_QC_list, backend=backend, shots=shots).result()\n",
    "  \n",
    "  for i in range(len(phis)):\n",
    "    counts = results.get_counts(i)\n",
    "    #raw data\n",
    "    raw_count = np.array([[counts['0']],[counts['1']]])\n",
    "    z_exp.append((counts['0']-counts['1'])/shots)\n",
    "    #applying CM\n",
    "    cal_prob = np.matmul(LA.inv(CM_ibm_5q),raw_count)/shots \n",
    "    zm.append(cal_prob[0]-cal_prob[1])\n",
    "  ZM.append(zm)\n",
    "  Z_exp.append(z_exp)"
   ]
  },
  {
   "cell_type": "code",
   "execution_count": 10,
   "id": "342fdf9d",
   "metadata": {},
   "outputs": [
    {
     "data": {
      "text/plain": [
       "'C:\\\\Users\\\\danny'"
      ]
     },
     "execution_count": 10,
     "metadata": {},
     "output_type": "execute_result"
    }
   ],
   "source": [
    "#saving data \n",
    "df2 = pd.DataFrame(ZM)\n",
    "for i in df2.columns:\n",
    "  df2[i]=[j[0] for j in df2[i]]\n",
    "\n",
    "df3 = pd.DataFrame(Z_exp)\n",
    "\n",
    "z_qcs = df3.mean(axis=0)\n",
    "z_qcs_std =df3.std(axis=0)\n",
    "z_ms = df2.mean(axis=0)\n",
    "z_ms_std = df2.std(axis=0)\n",
    "\n",
    "data_ibm_5q_q1 = pd.DataFrame({\n",
    "    'theta':thetas,\n",
    "    'phi':phis,\n",
    "    'z_true':z_trues,\n",
    "    'z_qc':z_qcs,\n",
    "    'z_qc_std':z_qcs_std,\n",
    "    'z_M':z_ms,\n",
    "    'z_M_std':z_ms_std\n",
    "    })\n",
    "data_ibm_5q_q1.to_csv('data_ibm_5q_q1.csv',index=False)\n",
    "\n",
    "data_qc_z_raw_ibm_5q_q1 = pd.DataFrame({\n",
    "    'theta':thetas,\n",
    "    'phi':phis,\n",
    "    'z_qc_raw_1':Z_exp[0],\n",
    "    'z_qc_raw_2':Z_exp[1],\n",
    "    'z_qc_raw_3':Z_exp[2],\n",
    "    'z_qc_raw_4':Z_exp[3],\n",
    "    'z_qc_raw_5':Z_exp[4],\n",
    "    'z_qc_raw_6':Z_exp[5],\n",
    "    'z_qc_raw_7':Z_exp[6],\n",
    "    'z_qc_raw_8':Z_exp[7],\n",
    "    'z_qc_raw_9':Z_exp[8],\n",
    "    'z_qc_raw_10':Z_exp[9],\n",
    "    'z_qc_raw_11':Z_exp[10],\n",
    "    'z_qc_raw_12':Z_exp[11],\n",
    "    'z_qc_raw_13':Z_exp[12],\n",
    "    'z_qc_raw_14':Z_exp[13],\n",
    "    'z_qc_raw_15':Z_exp[14],\n",
    "    'z_qc_raw_16':Z_exp[15],\n",
    "    'z_qc_raw_17':Z_exp[16],\n",
    "    'z_qc_raw_18':Z_exp[17],\n",
    "    'z_qc_raw_19':Z_exp[18],\n",
    "    'z_qc_raw_20':Z_exp[19],\n",
    "    })\n",
    "data_qc_z_raw_ibm_5q_q1.to_json('data_qc_z_raw_ibm_5q_q1.json')\n",
    "\n",
    "data_ZM_raw_ibm_5q_q1 = pd.DataFrame({\n",
    "    'theta':thetas,\n",
    "    'phi':phis,\n",
    "    'z_ZM_raw_1':ZM[0],\n",
    "    'z_ZM_raw_2':ZM[1],\n",
    "    'z_ZM_raw_3':ZM[2],\n",
    "    'z_ZM_raw_4':ZM[3],\n",
    "    'z_ZM_raw_5':ZM[4],\n",
    "    'z_ZM_raw_6':ZM[5],\n",
    "    'z_ZM_raw_7':ZM[6],\n",
    "    'z_ZM_raw_8':ZM[7],\n",
    "    'z_ZM_raw_9':ZM[8],\n",
    "    'z_ZM_raw_10':ZM[9],\n",
    "    'z_ZM_raw_11':ZM[10],\n",
    "    'z_ZM_raw_12':ZM[11],\n",
    "    'z_ZM_raw_13':ZM[12],\n",
    "    'z_ZM_raw_14':ZM[13],\n",
    "    'z_ZM_raw_15':ZM[14],\n",
    "    'z_ZM_raw_16':ZM[15],\n",
    "    'z_ZM_raw_17':ZM[16],\n",
    "    'z_ZM_raw_18':ZM[17],\n",
    "    'z_ZM_raw_19':ZM[18],\n",
    "    'z_ZM_raw_20':ZM[19],\n",
    "    })\n",
    "data_ZM_raw_ibm_5q_q1.to_json('data_ZM_raw_ibm_5q_q1.json')\n",
    "os.getcwd()"
   ]
  },
  {
   "cell_type": "code",
   "execution_count": null,
   "id": "82131c8b",
   "metadata": {},
   "outputs": [],
   "source": []
  }
 ],
 "metadata": {
  "kernelspec": {
   "display_name": "Python 3",
   "language": "python",
   "name": "python3"
  },
  "language_info": {
   "codemirror_mode": {
    "name": "ipython",
    "version": 3
   },
   "file_extension": ".py",
   "mimetype": "text/x-python",
   "name": "python",
   "nbconvert_exporter": "python",
   "pygments_lexer": "ipython3",
   "version": "3.8.8"
  }
 },
 "nbformat": 4,
 "nbformat_minor": 5
}
